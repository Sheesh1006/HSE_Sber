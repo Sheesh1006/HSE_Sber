{
 "cells": [
  {
   "cell_type": "code",
   "execution_count": 2,
   "id": "54c9893f-6506-41f3-ab77-824818dc377e",
   "metadata": {},
   "outputs": [],
   "source": [
    "import pandas as pd\n",
    "import matplotlib.pyplot as plt\n",
    "import seaborn as sns"
   ]
  },
  {
   "cell_type": "code",
   "execution_count": 18,
   "id": "55735fcc-bb44-4985-9a8b-915a8f2d95bb",
   "metadata": {},
   "outputs": [],
   "source": [
    "transactions = pd.read_csv(r\"transactions.csv\")\n",
    "train = pd.read_csv(r\"train.csv\")\n",
    "test = pd.read_csv(r\"test.csv\")\n",
    "mcc = pd.read_csv('mcc_codes.csv', sep = ';')\n",
    "trans_types = pd.read_csv('trans_types.csv', sep = ';')\n",
    "test_sample_submission = pd.read_csv('test_sample_submission.csv')"
   ]
  },
  {
   "cell_type": "code",
   "execution_count": 4,
   "id": "9cb7576b-f258-4054-a882-6c9273f45b22",
   "metadata": {},
   "outputs": [
    {
     "data": {
      "text/html": [
       "<div>\n",
       "<style scoped>\n",
       "    .dataframe tbody tr th:only-of-type {\n",
       "        vertical-align: middle;\n",
       "    }\n",
       "\n",
       "    .dataframe tbody tr th {\n",
       "        vertical-align: top;\n",
       "    }\n",
       "\n",
       "    .dataframe thead th {\n",
       "        text-align: right;\n",
       "    }\n",
       "</style>\n",
       "<table border=\"1\" class=\"dataframe\">\n",
       "  <thead>\n",
       "    <tr style=\"text-align: right;\">\n",
       "      <th></th>\n",
       "      <th>client_id</th>\n",
       "      <th>trans_time</th>\n",
       "      <th>mcc_code</th>\n",
       "      <th>trans_type</th>\n",
       "      <th>amount</th>\n",
       "      <th>term_id</th>\n",
       "      <th>trans_city</th>\n",
       "    </tr>\n",
       "  </thead>\n",
       "  <tbody>\n",
       "    <tr>\n",
       "      <th>0</th>\n",
       "      <td>d1bbbc9a0e0410d3cf12a3d2f44f3450</td>\n",
       "      <td>35 08:24:41</td>\n",
       "      <td>4829</td>\n",
       "      <td>2370</td>\n",
       "      <td>-1808.56</td>\n",
       "      <td>NaN</td>\n",
       "      <td>Tver</td>\n",
       "    </tr>\n",
       "    <tr>\n",
       "      <th>1</th>\n",
       "      <td>81c7349f7bdcb661bc7d5f5f0fdac6aa</td>\n",
       "      <td>351 13:27:15</td>\n",
       "      <td>6011</td>\n",
       "      <td>7010</td>\n",
       "      <td>7954.51</td>\n",
       "      <td>442207</td>\n",
       "      <td>Kazan</td>\n",
       "    </tr>\n",
       "    <tr>\n",
       "      <th>2</th>\n",
       "      <td>fc0c7c937f139bd6d1c5b5d0a0023dd3</td>\n",
       "      <td>150 16:03:59</td>\n",
       "      <td>6011</td>\n",
       "      <td>2010</td>\n",
       "      <td>-12293.56</td>\n",
       "      <td>NaN</td>\n",
       "      <td>Khabarovsk</td>\n",
       "    </tr>\n",
       "    <tr>\n",
       "      <th>3</th>\n",
       "      <td>3495487d5beaa5caaa0682fddc38379a</td>\n",
       "      <td>373 11:54:12</td>\n",
       "      <td>6010</td>\n",
       "      <td>7070</td>\n",
       "      <td>49.52</td>\n",
       "      <td>888987</td>\n",
       "      <td>Kaliningrad</td>\n",
       "    </tr>\n",
       "    <tr>\n",
       "      <th>4</th>\n",
       "      <td>07e279042b1da23710fa2f65034d30b9</td>\n",
       "      <td>340 13:11:45</td>\n",
       "      <td>6010</td>\n",
       "      <td>7070</td>\n",
       "      <td>45.29</td>\n",
       "      <td>888918</td>\n",
       "      <td>Saint Petersburg</td>\n",
       "    </tr>\n",
       "  </tbody>\n",
       "</table>\n",
       "</div>"
      ],
      "text/plain": [
       "                          client_id    trans_time  mcc_code  trans_type  \\\n",
       "0  d1bbbc9a0e0410d3cf12a3d2f44f3450   35 08:24:41      4829        2370   \n",
       "1  81c7349f7bdcb661bc7d5f5f0fdac6aa  351 13:27:15      6011        7010   \n",
       "2  fc0c7c937f139bd6d1c5b5d0a0023dd3  150 16:03:59      6011        2010   \n",
       "3  3495487d5beaa5caaa0682fddc38379a  373 11:54:12      6010        7070   \n",
       "4  07e279042b1da23710fa2f65034d30b9  340 13:11:45      6010        7070   \n",
       "\n",
       "     amount term_id        trans_city  \n",
       "0  -1808.56     NaN              Tver  \n",
       "1   7954.51  442207             Kazan  \n",
       "2 -12293.56     NaN        Khabarovsk  \n",
       "3     49.52  888987       Kaliningrad  \n",
       "4     45.29  888918  Saint Petersburg  "
      ]
     },
     "execution_count": 4,
     "metadata": {},
     "output_type": "execute_result"
    }
   ],
   "source": [
    "transactions.head()"
   ]
  },
  {
   "cell_type": "code",
   "execution_count": 5,
   "id": "d987a6e8-04c7-4a16-a0d8-bf73bfef734b",
   "metadata": {},
   "outputs": [
    {
     "data": {
      "text/html": [
       "<div>\n",
       "<style scoped>\n",
       "    .dataframe tbody tr th:only-of-type {\n",
       "        vertical-align: middle;\n",
       "    }\n",
       "\n",
       "    .dataframe tbody tr th {\n",
       "        vertical-align: top;\n",
       "    }\n",
       "\n",
       "    .dataframe thead th {\n",
       "        text-align: right;\n",
       "    }\n",
       "</style>\n",
       "<table border=\"1\" class=\"dataframe\">\n",
       "  <thead>\n",
       "    <tr style=\"text-align: right;\">\n",
       "      <th></th>\n",
       "      <th>Unnamed: 0</th>\n",
       "      <th>client_id</th>\n",
       "      <th>gender</th>\n",
       "    </tr>\n",
       "  </thead>\n",
       "  <tbody>\n",
       "    <tr>\n",
       "      <th>0</th>\n",
       "      <td>0</td>\n",
       "      <td>c5f18a1d1d83fda62e51e6ae1d7b8911</td>\n",
       "      <td>1</td>\n",
       "    </tr>\n",
       "    <tr>\n",
       "      <th>1</th>\n",
       "      <td>1</td>\n",
       "      <td>4b6861803556de90249e13d7cf66f0a9</td>\n",
       "      <td>0</td>\n",
       "    </tr>\n",
       "    <tr>\n",
       "      <th>2</th>\n",
       "      <td>2</td>\n",
       "      <td>7d3f908e1cd1e3624a1445df5e04c4fa</td>\n",
       "      <td>1</td>\n",
       "    </tr>\n",
       "    <tr>\n",
       "      <th>3</th>\n",
       "      <td>3</td>\n",
       "      <td>40c585a809c1bd17dc6d283d61acd2d2</td>\n",
       "      <td>0</td>\n",
       "    </tr>\n",
       "    <tr>\n",
       "      <th>4</th>\n",
       "      <td>4</td>\n",
       "      <td>5bd2ff9f6c591353577488b0dfca6dea</td>\n",
       "      <td>0</td>\n",
       "    </tr>\n",
       "  </tbody>\n",
       "</table>\n",
       "</div>"
      ],
      "text/plain": [
       "   Unnamed: 0                         client_id  gender\n",
       "0           0  c5f18a1d1d83fda62e51e6ae1d7b8911       1\n",
       "1           1  4b6861803556de90249e13d7cf66f0a9       0\n",
       "2           2  7d3f908e1cd1e3624a1445df5e04c4fa       1\n",
       "3           3  40c585a809c1bd17dc6d283d61acd2d2       0\n",
       "4           4  5bd2ff9f6c591353577488b0dfca6dea       0"
      ]
     },
     "execution_count": 5,
     "metadata": {},
     "output_type": "execute_result"
    }
   ],
   "source": [
    "train.head()"
   ]
  },
  {
   "cell_type": "code",
   "execution_count": 15,
   "id": "a20821d7-9498-4b98-ab1f-29379f270d24",
   "metadata": {},
   "outputs": [
    {
     "data": {
      "text/html": [
       "<div>\n",
       "<style scoped>\n",
       "    .dataframe tbody tr th:only-of-type {\n",
       "        vertical-align: middle;\n",
       "    }\n",
       "\n",
       "    .dataframe tbody tr th {\n",
       "        vertical-align: top;\n",
       "    }\n",
       "\n",
       "    .dataframe thead th {\n",
       "        text-align: right;\n",
       "    }\n",
       "</style>\n",
       "<table border=\"1\" class=\"dataframe\">\n",
       "  <thead>\n",
       "    <tr style=\"text-align: right;\">\n",
       "      <th></th>\n",
       "      <th>mcc_code</th>\n",
       "      <th>mcc_description</th>\n",
       "    </tr>\n",
       "  </thead>\n",
       "  <tbody>\n",
       "    <tr>\n",
       "      <th>0</th>\n",
       "      <td>742</td>\n",
       "      <td>Ветеринарные услуги</td>\n",
       "    </tr>\n",
       "    <tr>\n",
       "      <th>1</th>\n",
       "      <td>1711</td>\n",
       "      <td>Генеральные подрядчики по вентиляции, теплосна...</td>\n",
       "    </tr>\n",
       "    <tr>\n",
       "      <th>2</th>\n",
       "      <td>1731</td>\n",
       "      <td>Подрядчики по электричеству</td>\n",
       "    </tr>\n",
       "    <tr>\n",
       "      <th>3</th>\n",
       "      <td>1799</td>\n",
       "      <td>Подрядчики, специализированная торговля — нигд...</td>\n",
       "    </tr>\n",
       "    <tr>\n",
       "      <th>4</th>\n",
       "      <td>2741</td>\n",
       "      <td>Разнообразные издательства/печатное дело</td>\n",
       "    </tr>\n",
       "  </tbody>\n",
       "</table>\n",
       "</div>"
      ],
      "text/plain": [
       "   mcc_code                                    mcc_description\n",
       "0       742                                Ветеринарные услуги\n",
       "1      1711  Генеральные подрядчики по вентиляции, теплосна...\n",
       "2      1731                        Подрядчики по электричеству\n",
       "3      1799  Подрядчики, специализированная торговля — нигд...\n",
       "4      2741           Разнообразные издательства/печатное дело"
      ]
     },
     "execution_count": 15,
     "metadata": {},
     "output_type": "execute_result"
    }
   ],
   "source": [
    "mcc.head()"
   ]
  },
  {
   "cell_type": "code",
   "execution_count": 16,
   "id": "a829f618-d84d-4e43-ac86-07e31cae8e28",
   "metadata": {},
   "outputs": [
    {
     "data": {
      "text/html": [
       "<div>\n",
       "<style scoped>\n",
       "    .dataframe tbody tr th:only-of-type {\n",
       "        vertical-align: middle;\n",
       "    }\n",
       "\n",
       "    .dataframe tbody tr th {\n",
       "        vertical-align: top;\n",
       "    }\n",
       "\n",
       "    .dataframe thead th {\n",
       "        text-align: right;\n",
       "    }\n",
       "</style>\n",
       "<table border=\"1\" class=\"dataframe\">\n",
       "  <thead>\n",
       "    <tr style=\"text-align: right;\">\n",
       "      <th></th>\n",
       "      <th>trans_type</th>\n",
       "      <th>trans_description</th>\n",
       "    </tr>\n",
       "  </thead>\n",
       "  <tbody>\n",
       "    <tr>\n",
       "      <th>0</th>\n",
       "      <td>3200</td>\n",
       "      <td>Плата за предоставление услуг посредством моби...</td>\n",
       "    </tr>\n",
       "    <tr>\n",
       "      <th>1</th>\n",
       "      <td>3210</td>\n",
       "      <td>Плата за предоставление отчета по счету карты ...</td>\n",
       "    </tr>\n",
       "    <tr>\n",
       "      <th>2</th>\n",
       "      <td>3800</td>\n",
       "      <td>Плата за обслуживание банковской карты (за пер...</td>\n",
       "    </tr>\n",
       "    <tr>\n",
       "      <th>3</th>\n",
       "      <td>4000</td>\n",
       "      <td>Плата за получение наличных в Сбербанке</td>\n",
       "    </tr>\n",
       "    <tr>\n",
       "      <th>4</th>\n",
       "      <td>4001</td>\n",
       "      <td>Плата за получение наличных в Сбербанке (в дру...</td>\n",
       "    </tr>\n",
       "  </tbody>\n",
       "</table>\n",
       "</div>"
      ],
      "text/plain": [
       "   trans_type                                  trans_description\n",
       "0        3200  Плата за предоставление услуг посредством моби...\n",
       "1        3210  Плата за предоставление отчета по счету карты ...\n",
       "2        3800  Плата за обслуживание банковской карты (за пер...\n",
       "3        4000            Плата за получение наличных в Сбербанке\n",
       "4        4001  Плата за получение наличных в Сбербанке (в дру..."
      ]
     },
     "execution_count": 16,
     "metadata": {},
     "output_type": "execute_result"
    }
   ],
   "source": [
    "trans_types.head()"
   ]
  },
  {
   "cell_type": "code",
   "execution_count": 19,
   "id": "ee0aec6a-f20b-475b-a868-efa36fa37810",
   "metadata": {},
   "outputs": [
    {
     "data": {
      "text/html": [
       "<div>\n",
       "<style scoped>\n",
       "    .dataframe tbody tr th:only-of-type {\n",
       "        vertical-align: middle;\n",
       "    }\n",
       "\n",
       "    .dataframe tbody tr th {\n",
       "        vertical-align: top;\n",
       "    }\n",
       "\n",
       "    .dataframe thead th {\n",
       "        text-align: right;\n",
       "    }\n",
       "</style>\n",
       "<table border=\"1\" class=\"dataframe\">\n",
       "  <thead>\n",
       "    <tr style=\"text-align: right;\">\n",
       "      <th></th>\n",
       "      <th>Unnamed: 0</th>\n",
       "      <th>client_id</th>\n",
       "      <th>probability</th>\n",
       "    </tr>\n",
       "  </thead>\n",
       "  <tbody>\n",
       "    <tr>\n",
       "      <th>0</th>\n",
       "      <td>0</td>\n",
       "      <td>002218c52073faaf23bb26df2cffb138</td>\n",
       "      <td>0.297635</td>\n",
       "    </tr>\n",
       "    <tr>\n",
       "      <th>1</th>\n",
       "      <td>1</td>\n",
       "      <td>0069d4050c7aeb341317e2e125e8fd2e</td>\n",
       "      <td>0.402542</td>\n",
       "    </tr>\n",
       "    <tr>\n",
       "      <th>2</th>\n",
       "      <td>2</td>\n",
       "      <td>0083fb89aea18c408a5534cdd38d7692</td>\n",
       "      <td>0.393863</td>\n",
       "    </tr>\n",
       "    <tr>\n",
       "      <th>3</th>\n",
       "      <td>3</td>\n",
       "      <td>014021fa559786c81e9e1d48d378aabb</td>\n",
       "      <td>0.403755</td>\n",
       "    </tr>\n",
       "    <tr>\n",
       "      <th>4</th>\n",
       "      <td>4</td>\n",
       "      <td>01759f92152bbb3de79f9493a4a5cd6d</td>\n",
       "      <td>0.444039</td>\n",
       "    </tr>\n",
       "  </tbody>\n",
       "</table>\n",
       "</div>"
      ],
      "text/plain": [
       "   Unnamed: 0                         client_id  probability\n",
       "0           0  002218c52073faaf23bb26df2cffb138     0.297635\n",
       "1           1  0069d4050c7aeb341317e2e125e8fd2e     0.402542\n",
       "2           2  0083fb89aea18c408a5534cdd38d7692     0.393863\n",
       "3           3  014021fa559786c81e9e1d48d378aabb     0.403755\n",
       "4           4  01759f92152bbb3de79f9493a4a5cd6d     0.444039"
      ]
     },
     "execution_count": 19,
     "metadata": {},
     "output_type": "execute_result"
    }
   ],
   "source": [
    "test_sample_submission.head()"
   ]
  },
  {
   "cell_type": "code",
   "execution_count": 35,
   "id": "409e98a0-5aee-4a23-99a4-467e53c90f37",
   "metadata": {},
   "outputs": [],
   "source": [
    "transactions_merged = pd.merge(transactions, train, on=['client_id'])"
   ]
  },
  {
   "cell_type": "code",
   "execution_count": 39,
   "id": "efb098f3-2134-4c06-af57-3ddcff129a3f",
   "metadata": {},
   "outputs": [],
   "source": [
    "transactions_merged['Day'] = transactions_merged['trans_time'].str[:-9].astype('int')\n",
    "transactions_merged.drop(columns = ['Unnamed: 0'], inplace = True)\n",
    "transactions_merged['Hours'] = transactions['trans_time'].str[-2:].astype('int')/3600 + transactions['trans_time'].str[-5:-3].astype('int')/60 + transactions['trans_time'].str[-8:-6].astype('int')"
   ]
  },
  {
   "cell_type": "code",
   "execution_count": 40,
   "id": "54408327-4deb-4d93-9cb9-51ff979cadc4",
   "metadata": {},
   "outputs": [
    {
     "data": {
      "text/html": [
       "<div>\n",
       "<style scoped>\n",
       "    .dataframe tbody tr th:only-of-type {\n",
       "        vertical-align: middle;\n",
       "    }\n",
       "\n",
       "    .dataframe tbody tr th {\n",
       "        vertical-align: top;\n",
       "    }\n",
       "\n",
       "    .dataframe thead th {\n",
       "        text-align: right;\n",
       "    }\n",
       "</style>\n",
       "<table border=\"1\" class=\"dataframe\">\n",
       "  <thead>\n",
       "    <tr style=\"text-align: right;\">\n",
       "      <th></th>\n",
       "      <th>client_id</th>\n",
       "      <th>trans_time</th>\n",
       "      <th>mcc_code</th>\n",
       "      <th>trans_type</th>\n",
       "      <th>amount</th>\n",
       "      <th>term_id</th>\n",
       "      <th>trans_city</th>\n",
       "      <th>gender</th>\n",
       "      <th>Day</th>\n",
       "      <th>Hours</th>\n",
       "    </tr>\n",
       "  </thead>\n",
       "  <tbody>\n",
       "    <tr>\n",
       "      <th>0</th>\n",
       "      <td>d1bbbc9a0e0410d3cf12a3d2f44f3450</td>\n",
       "      <td>35 08:24:41</td>\n",
       "      <td>4829</td>\n",
       "      <td>2370</td>\n",
       "      <td>-1808.56</td>\n",
       "      <td>NaN</td>\n",
       "      <td>Tver</td>\n",
       "      <td>0</td>\n",
       "      <td>35</td>\n",
       "      <td>8.411389</td>\n",
       "    </tr>\n",
       "    <tr>\n",
       "      <th>1</th>\n",
       "      <td>d1bbbc9a0e0410d3cf12a3d2f44f3450</td>\n",
       "      <td>105 12:57:32</td>\n",
       "      <td>4829</td>\n",
       "      <td>2370</td>\n",
       "      <td>-3390.41</td>\n",
       "      <td>NaN</td>\n",
       "      <td>Tver</td>\n",
       "      <td>0</td>\n",
       "      <td>105</td>\n",
       "      <td>13.454167</td>\n",
       "    </tr>\n",
       "    <tr>\n",
       "      <th>2</th>\n",
       "      <td>d1bbbc9a0e0410d3cf12a3d2f44f3450</td>\n",
       "      <td>455 19:32:01</td>\n",
       "      <td>4814</td>\n",
       "      <td>1030</td>\n",
       "      <td>-144.50</td>\n",
       "      <td>889003</td>\n",
       "      <td>Tver</td>\n",
       "      <td>0</td>\n",
       "      <td>455</td>\n",
       "      <td>16.066389</td>\n",
       "    </tr>\n",
       "    <tr>\n",
       "      <th>3</th>\n",
       "      <td>d1bbbc9a0e0410d3cf12a3d2f44f3450</td>\n",
       "      <td>83 09:22:26</td>\n",
       "      <td>6011</td>\n",
       "      <td>2010</td>\n",
       "      <td>-3542.30</td>\n",
       "      <td>NaN</td>\n",
       "      <td>Tver</td>\n",
       "      <td>0</td>\n",
       "      <td>83</td>\n",
       "      <td>11.903333</td>\n",
       "    </tr>\n",
       "    <tr>\n",
       "      <th>4</th>\n",
       "      <td>d1bbbc9a0e0410d3cf12a3d2f44f3450</td>\n",
       "      <td>74 13:31:57</td>\n",
       "      <td>6011</td>\n",
       "      <td>2010</td>\n",
       "      <td>-3542.70</td>\n",
       "      <td>NaN</td>\n",
       "      <td>Tver</td>\n",
       "      <td>0</td>\n",
       "      <td>74</td>\n",
       "      <td>13.195833</td>\n",
       "    </tr>\n",
       "  </tbody>\n",
       "</table>\n",
       "</div>"
      ],
      "text/plain": [
       "                          client_id    trans_time  mcc_code  trans_type  \\\n",
       "0  d1bbbc9a0e0410d3cf12a3d2f44f3450   35 08:24:41      4829        2370   \n",
       "1  d1bbbc9a0e0410d3cf12a3d2f44f3450  105 12:57:32      4829        2370   \n",
       "2  d1bbbc9a0e0410d3cf12a3d2f44f3450  455 19:32:01      4814        1030   \n",
       "3  d1bbbc9a0e0410d3cf12a3d2f44f3450   83 09:22:26      6011        2010   \n",
       "4  d1bbbc9a0e0410d3cf12a3d2f44f3450   74 13:31:57      6011        2010   \n",
       "\n",
       "    amount term_id trans_city  gender  Day      Hours  \n",
       "0 -1808.56     NaN       Tver       0   35   8.411389  \n",
       "1 -3390.41     NaN       Tver       0  105  13.454167  \n",
       "2  -144.50  889003       Tver       0  455  16.066389  \n",
       "3 -3542.30     NaN       Tver       0   83  11.903333  \n",
       "4 -3542.70     NaN       Tver       0   74  13.195833  "
      ]
     },
     "execution_count": 40,
     "metadata": {},
     "output_type": "execute_result"
    }
   ],
   "source": [
    "transactions_merged.head()"
   ]
  },
  {
   "cell_type": "code",
   "execution_count": 41,
   "id": "1865b3fb-1e82-4b6e-8526-980a2a17fc50",
   "metadata": {},
   "outputs": [
    {
     "data": {
      "text/plain": [
       "False    1927684\n",
       "True     1311048\n",
       "Name: term_id, dtype: int64"
      ]
     },
     "execution_count": 41,
     "metadata": {},
     "output_type": "execute_result"
    }
   ],
   "source": [
    "transactions_merged['term_id'].isna().value_counts()"
   ]
  },
  {
   "cell_type": "code",
   "execution_count": 42,
   "id": "02356c10-f97f-420f-997d-2cbe044bf251",
   "metadata": {},
   "outputs": [
    {
     "data": {
      "text/plain": [
       "<AxesSubplot:xlabel='trans_city', ylabel='Count'>"
      ]
     },
     "execution_count": 42,
     "metadata": {},
     "output_type": "execute_result"
    },
    {
     "data": {
      "image/png": "[encoded data removed]",
      "text/plain": [
       "<Figure size 1440x576 with 1 Axes>"
      ]
     },
     "metadata": {
      "needs_background": "light"
     },
     "output_type": "display_data"
    }
   ],
   "source": [
    "plt.figure(figsize=(20,8))\n",
    "sns.histplot(data=transactions_merged, x = 'trans_city', hue = 'gender', multiple=\"dodge\", shrink=.8)"
   ]
  },
  {
   "cell_type": "code",
   "execution_count": 43,
   "id": "65a6a2e0-0015-49ec-a6a2-21f55d0270bf",
   "metadata": {},
   "outputs": [
    {
     "data": {
      "text/plain": [
       "<AxesSubplot:xlabel='trans_city', ylabel='Count'>"
      ]
     },
     "execution_count": 43,
     "metadata": {},
     "output_type": "execute_result"
    },
    {
     "data": {
      "image/png": "[encoded data removed]",
      "text/plain": [
       "<Figure size 1440x576 with 1 Axes>"
      ]
     },
     "metadata": {
      "needs_background": "light"
     },
     "output_type": "display_data"
    }
   ],
   "source": [
    "newdf = transactions_merged.drop_duplicates( \n",
    "  subset = ['client_id', 'trans_city'], \n",
    "  keep = 'last').reset_index(drop = True) \n",
    "plt.figure(figsize=(20,8))\n",
    "sns.histplot(data=newdf, x = 'trans_city', hue = 'gender', multiple=\"dodge\", shrink=.8)"
   ]
  },
  {
   "cell_type": "code",
   "execution_count": 168,
   "id": "607d83c4-3bb5-488e-a114-a95911d1b812",
   "metadata": {},
   "outputs": [
    {
     "data": {
      "text/plain": [
       "gender\n",
       "0    4199\n",
       "1    3361\n",
       "dtype: int64"
      ]
     },
     "execution_count": 168,
     "metadata": {},
     "output_type": "execute_result"
    }
   ],
   "source": [
    "newdf.value_counts('gender')"
   ]
  }
 ],
 "metadata": {
  "kernelspec": {
   "display_name": "Python 3 (ipykernel)",
   "language": "python",
   "name": "python3"
  },
  "language_info": {
   "codemirror_mode": {
    "name": "ipython",
    "version": 3
   },
   "file_extension": ".py",
   "mimetype": "text/x-python",
   "name": "python",
   "nbconvert_exporter": "python",
   "pygments_lexer": "ipython3",
   "version": "3.9.13"
  }
 },
 "nbformat": 4,
 "nbformat_minor": 5
}
